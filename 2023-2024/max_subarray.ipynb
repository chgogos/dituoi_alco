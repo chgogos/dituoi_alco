{
 "cells": [
  {
   "cell_type": "markdown",
   "metadata": {},
   "source": [
    "# Το πρόβλημα της μέγιστης υποακολουθίας"
   ]
  },
  {
   "cell_type": "code",
   "execution_count": 5,
   "metadata": {},
   "outputs": [],
   "source": [
    "def brute_force(a_list):\n",
    "    \"\"\"\n",
    "    Find max subarray from a_list using brute force.\n",
    "    \"\"\"\n",
    "\n",
    "    # initialize returns\n",
    "    max_sum, start, end = a_list[0], 0, 0\n",
    "\n",
    "    # brute force\n",
    "    for i in range(len(a_list)):\n",
    "        for j in range(i, len(a_list)):\n",
    "            total = 0\n",
    "            for x in range(i, j + 1):\n",
    "                total += a_list[x]\n",
    "            # replace start and end positions if a larger sum is found\n",
    "            if max_sum < total:\n",
    "                max_sum, start, end = total, i, j\n",
    "\n",
    "    return max_sum, start, end"
   ]
  },
  {
   "cell_type": "code",
   "execution_count": 6,
   "metadata": {},
   "outputs": [
    {
     "name": "stdout",
     "output_type": "stream",
     "text": [
      "4.89 s ± 59.6 ms per loop (mean ± std. dev. of 7 runs, 1 loop each)\n"
     ]
    }
   ],
   "source": [
    "%%timeit\n",
    "import random\n",
    "\n",
    "a_list = [random.randint(-100, 100) for _ in range(1000)]\n",
    "max_sum, start, end = brute_force(a_list)"
   ]
  },
  {
   "cell_type": "code",
   "execution_count": 9,
   "metadata": {},
   "outputs": [],
   "source": [
    "\n",
    "def prefix_sums(a_list):\n",
    "    \"\"\"\n",
    "    Find max subarray from a_list using prefix sums.\n",
    "    \"\"\"\n",
    "    # initialize returns\n",
    "    max_sum, start, end = a_list[0], 0, 0\n",
    "\n",
    "    # prefix table generation\n",
    "    prefix_table = list()\n",
    "    for index, num in enumerate(a_list):\n",
    "        prefix_table.append(num if index == 0 else num + prefix_table[index - 1])\n",
    "\n",
    "    # use prefix table\n",
    "    for i in range(len(a_list)):\n",
    "        for j in range(i, len(a_list)):\n",
    "            total = prefix_table[j] if i == 0 else prefix_table[j] - prefix_table[i - 1]\n",
    "            # replace starting and ending positions if a larger sum is found\n",
    "            if max_sum < total:\n",
    "                max_sum, start, end = total, i, j\n",
    "\n",
    "    return max_sum, start, end"
   ]
  },
  {
   "cell_type": "code",
   "execution_count": 10,
   "metadata": {},
   "outputs": [
    {
     "name": "stdout",
     "output_type": "stream",
     "text": [
      "30.8 ms ± 290 µs per loop (mean ± std. dev. of 7 runs, 10 loops each)\n"
     ]
    }
   ],
   "source": [
    "%%timeit\n",
    "import random\n",
    "\n",
    "a_list = [random.randint(-100, 100) for _ in range(1000)]\n",
    "max_sum, start, end = prefix_sums(a_list)"
   ]
  },
  {
   "cell_type": "code",
   "execution_count": 11,
   "metadata": {},
   "outputs": [],
   "source": [
    "def kadane(a_list):\n",
    "    \"\"\"\n",
    "    Find max subarray from a_list using kadane algorithm.\n",
    "    \"\"\"\n",
    "    # initialize returns\n",
    "    max_sum, start, end = a_list[0], 0, 0\n",
    "\n",
    "    # generate kadane table\n",
    "    kadane_table = list()\n",
    "    for index, num in enumerate(a_list):\n",
    "        total = num if index == 0 else num + kadane_table[index - 1]\n",
    "        kadane_table.append(0 if total < 0 else total)\n",
    "\n",
    "    # find max and ending position\n",
    "    for index, total in enumerate(kadane_table):\n",
    "        if max_sum < total:\n",
    "            max_sum, end = total, index\n",
    "\n",
    "    # find starting position\n",
    "    for i in range(end, 0, -1):\n",
    "        if kadane_table[i] == 0:\n",
    "            start = i + 1\n",
    "            break\n",
    "\n",
    "    return max_sum, start, end\n"
   ]
  },
  {
   "cell_type": "code",
   "execution_count": 12,
   "metadata": {},
   "outputs": [
    {
     "name": "stdout",
     "output_type": "stream",
     "text": [
      "423 µs ± 752 ns per loop (mean ± std. dev. of 7 runs, 1,000 loops each)\n"
     ]
    }
   ],
   "source": [
    "%%timeit\n",
    "import random\n",
    "\n",
    "a_list = [random.randint(-100, 100) for _ in range(1000)]\n",
    "max_sum, start, end = kadane(a_list)"
   ]
  },
  {
   "cell_type": "code",
   "execution_count": null,
   "metadata": {},
   "outputs": [],
   "source": []
  }
 ],
 "metadata": {
  "kernelspec": {
   "display_name": "py310",
   "language": "python",
   "name": "python3"
  },
  "language_info": {
   "codemirror_mode": {
    "name": "ipython",
    "version": 3
   },
   "file_extension": ".py",
   "mimetype": "text/x-python",
   "name": "python",
   "nbconvert_exporter": "python",
   "pygments_lexer": "ipython3",
   "version": "3.10.13"
  },
  "orig_nbformat": 4
 },
 "nbformat": 4,
 "nbformat_minor": 2
}
